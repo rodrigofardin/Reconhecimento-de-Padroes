{
  "nbformat": 4,
  "nbformat_minor": 0,
  "metadata": {
    "colab": {
      "provenance": [],
      "authorship_tag": "ABX9TyOrPbSnhSP8luYxQZrl8MnN",
      "include_colab_link": true
    },
    "kernelspec": {
      "name": "python3",
      "display_name": "Python 3"
    },
    "language_info": {
      "name": "python"
    }
  },
  "cells": [
    {
      "cell_type": "markdown",
      "metadata": {
        "id": "view-in-github",
        "colab_type": "text"
      },
      "source": [
        "<a href=\"https://colab.research.google.com/github/rodrigofardin/Reconhecimento-de-Padroes/blob/main/Ensembles2.ipynb\" target=\"_parent\"><img src=\"https://colab.research.google.com/assets/colab-badge.svg\" alt=\"Open In Colab\"/></a>"
      ]
    },
    {
      "cell_type": "code",
      "execution_count": 1,
      "metadata": {
        "id": "xmd77RLkre-D"
      },
      "outputs": [],
      "source": [
        "import numpy as np\n",
        "import random\n",
        "import warnings\n",
        "from sklearn.datasets import fetch_openml\n",
        "from sklearn.model_selection import train_test_split\n",
        "from sklearn.neighbors import KNeighborsClassifier\n",
        "from sklearn.naive_bayes import GaussianNB\n",
        "from sklearn.linear_model import Perceptron\n",
        "from scipy import stats\n",
        "from sklearn.ensemble import VotingClassifier\n",
        "from sklearn.tree import DecisionTreeClassifier\n",
        "from sklearn.ensemble import BaggingClassifier\n",
        "from sklearn.ensemble import RandomForestClassifier\n",
        "from sklearn.ensemble import ExtraTreesClassifier\n",
        "from sklearn.base import BaseEstimator, ClassifierMixin\n",
        "from collections import Counter\n",
        "from sklearn.ensemble import AdaBoostClassifier\n",
        "from sklearn.ensemble import StackingClassifier"
      ]
    },
    {
      "cell_type": "code",
      "source": [
        "request = fetch_openml(data_id=1489, as_frame=True)"
      ],
      "metadata": {
        "id": "kGd-xTj4QAet"
      },
      "execution_count": 3,
      "outputs": []
    },
    {
      "cell_type": "code",
      "source": [
        "X = np.array(request.data)\n",
        "y = request.target.map({\"1\":1,\"2\":2})\n",
        "X.shape, y.shape"
      ],
      "metadata": {
        "colab": {
          "base_uri": "https://localhost:8080/"
        },
        "id": "VZMcSoFcroVe",
        "outputId": "f59d9bc1-6034-4967-b324-8733ab37d3dd"
      },
      "execution_count": 4,
      "outputs": [
        {
          "output_type": "execute_result",
          "data": {
            "text/plain": [
              "((5404, 5), (5404,))"
            ]
          },
          "metadata": {},
          "execution_count": 4
        }
      ]
    },
    {
      "cell_type": "code",
      "source": [
        "X_train, X_test, y_train, y_test = train_test_split(X, y, random_state=42)\n",
        "X_train.shape, X_test.shape, y_train.shape, y_test.shape"
      ],
      "metadata": {
        "colab": {
          "base_uri": "https://localhost:8080/"
        },
        "id": "kBvMGY2proTG",
        "outputId": "35bca57b-53af-401d-895c-26c21d525992"
      },
      "execution_count": 5,
      "outputs": [
        {
          "output_type": "execute_result",
          "data": {
            "text/plain": [
              "((4053, 5), (1351, 5), (4053,), (1351,))"
            ]
          },
          "metadata": {},
          "execution_count": 5
        }
      ]
    },
    {
      "cell_type": "code",
      "source": [
        "modelo = VotingClassifier([\n",
        "    ('knn', KNeighborsClassifier()),\n",
        "    ('gnb', GaussianNB()),\n",
        "    ('per', Perceptron())\n",
        "])\n",
        "modelo.fit(X_train, y_train)\n",
        "vote_pred = modelo.predict(X_test)\n",
        "vote_hits = vote_pred == y_test\n",
        "vote_hits, sum(vote_hits)/len(vote_hits)"
      ],
      "metadata": {
        "colab": {
          "base_uri": "https://localhost:8080/"
        },
        "id": "1euZeYlwuSZ5",
        "outputId": "c52866d7-0088-4ed3-bca7-3d3117ec24b1"
      },
      "execution_count": 6,
      "outputs": [
        {
          "output_type": "execute_result",
          "data": {
            "text/plain": [
              "(2124     True\n",
              " 4122     True\n",
              " 2867     True\n",
              " 4283     True\n",
              " 2596    False\n",
              "         ...  \n",
              " 3257     True\n",
              " 3340     True\n",
              " 3467     True\n",
              " 368      True\n",
              " 1151     True\n",
              " Name: Class, Length: 1351, dtype: bool, 0.8201332346410066)"
            ]
          },
          "metadata": {},
          "execution_count": 6
        }
      ]
    },
    {
      "cell_type": "code",
      "source": [
        "modelo = BaggingClassifier(DecisionTreeClassifier(splitter='random'), \n",
        "                           n_estimators=100, \n",
        "                           max_features=0.15,\n",
        "                           random_state=42)\n",
        "modelo.fit(X_train, y_train)\n",
        "bag_pred = modelo.predict(X_test)\n",
        "bag_hits = bag_pred == y_test\n",
        "bag_hits, sum(bag_hits)/len(bag_hits)"
      ],
      "metadata": {
        "id": "vuxHMkU1uSOl",
        "colab": {
          "base_uri": "https://localhost:8080/"
        },
        "outputId": "ec581e4a-9665-4bd3-a4a1-f12ac9bd5073"
      },
      "execution_count": 7,
      "outputs": [
        {
          "output_type": "execute_result",
          "data": {
            "text/plain": [
              "(2124     True\n",
              " 4122     True\n",
              " 2867    False\n",
              " 4283     True\n",
              " 2596     True\n",
              "         ...  \n",
              " 3257     True\n",
              " 3340     True\n",
              " 3467     True\n",
              " 368      True\n",
              " 1151    False\n",
              " Name: Class, Length: 1351, dtype: bool, 0.7668393782383419)"
            ]
          },
          "metadata": {},
          "execution_count": 7
        }
      ]
    },
    {
      "cell_type": "code",
      "source": [
        "modelo = RandomForestClassifier(random_state=42)\n",
        "modelo.fit(X_train, y_train)\n",
        "rfc_pred = modelo.predict(X_test)\n",
        "rfc_hits = rfc_pred == y_test\n",
        "rfc_hits, sum(rfc_hits)/len(rfc_hits)"
      ],
      "metadata": {
        "colab": {
          "base_uri": "https://localhost:8080/"
        },
        "id": "h2XiQuk4uSL7",
        "outputId": "af507cd5-e2b1-4c04-e613-cc382c907d6c"
      },
      "execution_count": 8,
      "outputs": [
        {
          "output_type": "execute_result",
          "data": {
            "text/plain": [
              "(2124    True\n",
              " 4122    True\n",
              " 2867    True\n",
              " 4283    True\n",
              " 2596    True\n",
              "         ... \n",
              " 3257    True\n",
              " 3340    True\n",
              " 3467    True\n",
              " 368     True\n",
              " 1151    True\n",
              " Name: Class, Length: 1351, dtype: bool, 0.9089563286454478)"
            ]
          },
          "metadata": {},
          "execution_count": 8
        }
      ]
    },
    {
      "cell_type": "code",
      "source": [
        "modelo = ExtraTreesClassifier(random_state=42)\n",
        "modelo.fit(X_train, y_train)\n",
        "etc_pred = modelo.predict(X_test)\n",
        "etc_hits = etc_pred == y_test\n",
        "etc_hits, sum(etc_hits)/len(etc_hits)"
      ],
      "metadata": {
        "colab": {
          "base_uri": "https://localhost:8080/"
        },
        "id": "oEpN55d2uSJh",
        "outputId": "d83722b2-c73a-474b-90ca-29f94f838c05"
      },
      "execution_count": 9,
      "outputs": [
        {
          "output_type": "execute_result",
          "data": {
            "text/plain": [
              "(2124    True\n",
              " 4122    True\n",
              " 2867    True\n",
              " 4283    True\n",
              " 2596    True\n",
              "         ... \n",
              " 3257    True\n",
              " 3340    True\n",
              " 3467    True\n",
              " 368     True\n",
              " 1151    True\n",
              " Name: Class, Length: 1351, dtype: bool, 0.9119170984455959)"
            ]
          },
          "metadata": {},
          "execution_count": 9
        }
      ]
    },
    {
      "cell_type": "code",
      "source": [
        "random.seed(42)\n",
        "\n",
        "def maisFrequente(y):\n",
        "  return Counter(y.flat).most_common(1)[0][0]\n",
        "\n",
        "def caracteristicaValor(X):\n",
        "  feat = random.randint(0, X.shape[1]-1)\n",
        "  xmin = np.min(X[:,feat])\n",
        "  xmax = np.max(X[:,feat])\n",
        "  valor = random.random()*(xmax-xmin)+xmin\n",
        "  return feat, valor\n",
        "\n",
        "class Arvore(BaseEstimator, ClassifierMixin):\n",
        "  def fit(self, X, y):\n",
        "    self.caracteristica, self.valor = caracteristicaValor(X)\n",
        "    maiores = X[:,self.caracteristica] > self.valor\n",
        "    if sum(maiores)>0 and sum(~maiores)>0:\n",
        "      self.maiores = Arvore()\n",
        "      self.maiores.fit(X[maiores,:], y[maiores])\n",
        "      self.menores = Arvore()\n",
        "      self.menores.fit(X[~maiores,:], y[~maiores])\n",
        "    else:\n",
        "      self.resposta = maisFrequente(y)\n",
        "\n",
        "  def predict(self, X):\n",
        "    y = np.empty((X.shape[0]), dtype=np.int64)\n",
        "    if hasattr(self, \"resposta\"):\n",
        "      y[:] = self.resposta\n",
        "    else:\n",
        "      maiores = X[:,self.caracteristica] > self.valor\n",
        "      y[maiores] = self.maiores.predict(X[maiores,:])\n",
        "      y[~maiores] = self.menores.predict(X[~maiores,:])\n",
        "    return y\n",
        "\n",
        "modelo = BaggingClassifier(Arvore(), \n",
        "                           n_estimators=200,\n",
        "                           max_features=0.1,\n",
        "                           random_state=42)\n",
        "modelo.fit(X_train, y_train)\n",
        "bag_pred = modelo.predict(X_test)\n",
        "bag_hits = bag_pred == y_test\n",
        "bag_hits, sum(bag_hits)/len(bag_hits)"
      ],
      "metadata": {
        "colab": {
          "base_uri": "https://localhost:8080/"
        },
        "id": "8daptO8tuSHJ",
        "outputId": "1dbf05fd-0ce9-477f-fdf7-96e433890bc1"
      },
      "execution_count": 10,
      "outputs": [
        {
          "output_type": "execute_result",
          "data": {
            "text/plain": [
              "(2124     True\n",
              " 4122     True\n",
              " 2867    False\n",
              " 4283     True\n",
              " 2596     True\n",
              "         ...  \n",
              " 3257     True\n",
              " 3340     True\n",
              " 3467     True\n",
              " 368      True\n",
              " 1151    False\n",
              " Name: Class, Length: 1351, dtype: bool, 0.7668393782383419)"
            ]
          },
          "metadata": {},
          "execution_count": 10
        }
      ]
    },
    {
      "cell_type": "code",
      "source": [
        "modelo = AdaBoostClassifier(DecisionTreeClassifier(max_depth=25, splitter='random'), \n",
        "                            learning_rate=0.15, random_state=42)\n",
        "modelo.fit(X_train, y_train)\n",
        "abc_pred = modelo.predict(X_test)\n",
        "abc_hits = abc_pred == y_test\n",
        "abc_hits, sum(abc_hits)/len(abc_hits)"
      ],
      "metadata": {
        "colab": {
          "base_uri": "https://localhost:8080/"
        },
        "id": "ffoPxvQNuSEi",
        "outputId": "3e96321c-4427-48ac-e6c5-0966ae39bdb8"
      },
      "execution_count": 11,
      "outputs": [
        {
          "output_type": "execute_result",
          "data": {
            "text/plain": [
              "(2124     True\n",
              " 4122     True\n",
              " 2867     True\n",
              " 4283     True\n",
              " 2596    False\n",
              "         ...  \n",
              " 3257     True\n",
              " 3340     True\n",
              " 3467     True\n",
              " 368      True\n",
              " 1151     True\n",
              " Name: Class, Length: 1351, dtype: bool, 0.8549222797927462)"
            ]
          },
          "metadata": {},
          "execution_count": 11
        }
      ]
    },
    {
      "cell_type": "code",
      "source": [
        "warnings.filterwarnings('ignore')\n",
        "\n",
        "voting = VotingClassifier([\n",
        "    ('knn', KNeighborsClassifier()),\n",
        "    ('gnb', GaussianNB()),\n",
        "    ('per', Perceptron())\n",
        "])\n",
        "\n",
        "modelo = StackingClassifier([\n",
        "    ('voting', voting),\n",
        "    ('extrat', ExtraTreesClassifier()),\n",
        "    ('ranfor', RandomForestClassifier())\n",
        "], cv=3, passthrough=True)\n",
        "\n",
        "modelo.fit(X_train, y_train)\n",
        "stack_pred = modelo.predict(X_test)\n",
        "stack_hits = stack_pred == y_test\n",
        "stack_hits, sum(stack_hits)/len(stack_hits)"
      ],
      "metadata": {
        "colab": {
          "base_uri": "https://localhost:8080/"
        },
        "id": "Em0AKueXwVbU",
        "outputId": "9f46a985-6716-4425-b17e-04b4bb7d0eb6"
      },
      "execution_count": 12,
      "outputs": [
        {
          "output_type": "execute_result",
          "data": {
            "text/plain": [
              "(2124    True\n",
              " 4122    True\n",
              " 2867    True\n",
              " 4283    True\n",
              " 2596    True\n",
              "         ... \n",
              " 3257    True\n",
              " 3340    True\n",
              " 3467    True\n",
              " 368     True\n",
              " 1151    True\n",
              " Name: Class, Length: 1351, dtype: bool, 0.9163582531458179)"
            ]
          },
          "metadata": {},
          "execution_count": 12
        }
      ]
    },
    {
      "cell_type": "code",
      "source": [
        "modelo = StackingClassifier([\n",
        "    ('randomforest42', RandomForestClassifier(random_state=42)),\n",
        "    ('randomforest43', RandomForestClassifier(random_state=43)),\n",
        "    ('randomforest44', RandomForestClassifier(random_state=44))\n",
        "], cv=3, passthrough=True)\n",
        "\n",
        "modelo.fit(X_train, y_train)\n",
        "sc_pr = modelo.predict(X_test)\n",
        "schits = sc_pr == y_test\n",
        "schits, sum(schits)/len(schits)"
      ],
      "metadata": {
        "colab": {
          "base_uri": "https://localhost:8080/"
        },
        "id": "vMEC3xwrfj3N",
        "outputId": "edbc0bdb-a31f-4ed5-e633-6c73a7c59e51"
      },
      "execution_count": 13,
      "outputs": [
        {
          "output_type": "execute_result",
          "data": {
            "text/plain": [
              "(2124    True\n",
              " 4122    True\n",
              " 2867    True\n",
              " 4283    True\n",
              " 2596    True\n",
              "         ... \n",
              " 3257    True\n",
              " 3340    True\n",
              " 3467    True\n",
              " 368     True\n",
              " 1151    True\n",
              " Name: Class, Length: 1351, dtype: bool, 0.9104367135455218)"
            ]
          },
          "metadata": {},
          "execution_count": 13
        }
      ]
    },
    {
      "cell_type": "code",
      "source": [
        "from sklearn.model_selection import cross_validate\n",
        "from sklearn.model_selection import GridSearchCV\n",
        "\n",
        "parametros = {'knn__n_neighbors': [3,5,7, 11,13],\n",
        "              'gnb__var_smoothing': [0.00000001, 0.000000001, 0.00000001], \n",
        "              }\n",
        "\n",
        "modelo = GridSearchCV(voting, parametros, cv=3)\n",
        "\n",
        "modelo.fit(X_train, y_train)\n",
        "stack_pred = modelo.predict(X_test)\n",
        "stack_hits = stack_pred == y_test\n",
        "stack_hits, sum(stack_hits)/len(stack_hits)"
      ],
      "metadata": {
        "colab": {
          "base_uri": "https://localhost:8080/"
        },
        "id": "WJEi1FW-YR9t",
        "outputId": "ec669dd2-524c-4208-92b2-11103961851b"
      },
      "execution_count": 14,
      "outputs": [
        {
          "output_type": "execute_result",
          "data": {
            "text/plain": [
              "(2124     True\n",
              " 4122     True\n",
              " 2867     True\n",
              " 4283     True\n",
              " 2596    False\n",
              "         ...  \n",
              " 3257     True\n",
              " 3340     True\n",
              " 3467     True\n",
              " 368      True\n",
              " 1151     True\n",
              " Name: Class, Length: 1351, dtype: bool, 0.8238341968911918)"
            ]
          },
          "metadata": {},
          "execution_count": 14
        }
      ]
    }
  ]
}