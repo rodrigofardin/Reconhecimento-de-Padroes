{
  "nbformat": 4,
  "nbformat_minor": 0,
  "metadata": {
    "colab": {
      "provenance": [],
      "include_colab_link": true
    },
    "kernelspec": {
      "name": "python3",
      "display_name": "Python 3"
    },
    "language_info": {
      "name": "python"
    }
  },
  "cells": [
    {
      "cell_type": "markdown",
      "metadata": {
        "id": "view-in-github",
        "colab_type": "text"
      },
      "source": [
        "<a href=\"https://colab.research.google.com/github/rodrigofardin/Reconhecimento-de-Padroes/blob/main/Submission_Titanic.ipynb\" target=\"_parent\"><img src=\"https://colab.research.google.com/assets/colab-badge.svg\" alt=\"Open In Colab\"/></a>"
      ]
    },
    {
      "cell_type": "code",
      "source": [
        "from google.colab import drive\n",
        "drive.mount('/content/drive')"
      ],
      "metadata": {
        "colab": {
          "base_uri": "https://localhost:8080/"
        },
        "id": "ZiW2UOnESQ-d",
        "outputId": "07c8ac68-6fd2-46a6-dc9f-f23c71779208"
      },
      "execution_count": 2,
      "outputs": [
        {
          "output_type": "stream",
          "name": "stdout",
          "text": [
            "Mounted at /content/drive\n"
          ]
        }
      ]
    },
    {
      "cell_type": "code",
      "source": [
        "import pandas as pd\n",
        "import numpy as np\n",
        "from sklearn.base import BaseEstimator, TransformerMixin\n",
        "from sklearn.pipeline import Pipeline\n",
        "from sklearn.impute import SimpleImputer\n",
        "from sklearn.preprocessing import StandardScaler\n",
        "from sklearn.preprocessing import OneHotEncoder\n",
        "from sklearn.pipeline import FeatureUnion\n",
        "from sklearn.pipeline import Pipeline\n",
        "from sklearn.tree import DecisionTreeClassifier\n",
        "from sklearn.metrics import accuracy_score"
      ],
      "metadata": {
        "id": "QnWYCKli2C5O"
      },
      "execution_count": 3,
      "outputs": []
    },
    {
      "cell_type": "code",
      "execution_count": 4,
      "metadata": {
        "colab": {
          "base_uri": "https://localhost:8080/"
        },
        "id": "oHHKCVTVZ5dr",
        "outputId": "e668a4bc-48b8-443f-a7e0-6f152a31cdc2"
      },
      "outputs": [
        {
          "output_type": "execute_result",
          "data": {
            "text/plain": [
              "PassengerId      int64\n",
              "Survived         int64\n",
              "Pclass           int64\n",
              "Name            object\n",
              "Sex             object\n",
              "Age            float64\n",
              "SibSp            int64\n",
              "Parch            int64\n",
              "Ticket          object\n",
              "Fare           float64\n",
              "Cabin           object\n",
              "Embarked        object\n",
              "dtype: object"
            ]
          },
          "metadata": {},
          "execution_count": 4
        }
      ],
      "source": [
        "data = pd.read_csv('/content/drive/MyDrive/Datasets/titanic/train.csv')\n",
        "data.dtypes"
      ]
    },
    {
      "cell_type": "code",
      "source": [
        "y = np.array(data['Survived'])"
      ],
      "metadata": {
        "id": "ZDiuj8XupJOR"
      },
      "execution_count": 5,
      "outputs": []
    },
    {
      "cell_type": "code",
      "source": [
        "X = data.drop('Survived', axis=1)"
      ],
      "metadata": {
        "id": "3I8y1gkEpjVq"
      },
      "execution_count": 6,
      "outputs": []
    },
    {
      "cell_type": "code",
      "source": [
        "X_train = pd.read_csv('/content/drive/MyDrive/Datasets/titanic/train.csv')\n",
        "X_test = pd.read_csv('/content/drive/MyDrive/Datasets/titanic/test.csv')\n",
        "X_train.columns.isin(X_test.columns)"
      ],
      "metadata": {
        "colab": {
          "base_uri": "https://localhost:8080/"
        },
        "id": "XecD1pZWxZ6Z",
        "outputId": "6492b5ba-5d15-4d9f-a295-e4c1bd06b3a3"
      },
      "execution_count": 7,
      "outputs": [
        {
          "output_type": "execute_result",
          "data": {
            "text/plain": [
              "array([ True, False,  True,  True,  True,  True,  True,  True,  True,\n",
              "        True,  True,  True])"
            ]
          },
          "metadata": {},
          "execution_count": 7
        }
      ]
    },
    {
      "cell_type": "code",
      "source": [
        "print(\"Passengers (Rows): \", len(X_train))\n",
        "print(\"Features (Columns): \", len(X_train.columns))"
      ],
      "metadata": {
        "colab": {
          "base_uri": "https://localhost:8080/"
        },
        "id": "gNw1sNP5-sg6",
        "outputId": "c9498a32-5553-44d2-cae4-55ca70f9a0db"
      },
      "execution_count": 8,
      "outputs": [
        {
          "output_type": "stream",
          "name": "stdout",
          "text": [
            "Passengers (Rows):  891\n",
            "Features (Columns):  12\n"
          ]
        }
      ]
    },
    {
      "cell_type": "code",
      "source": [
        "X_train.columns"
      ],
      "metadata": {
        "colab": {
          "base_uri": "https://localhost:8080/"
        },
        "id": "WdK6j8kJBsi4",
        "outputId": "e477c375-5df1-4a50-c9ce-9439c60809de"
      },
      "execution_count": 9,
      "outputs": [
        {
          "output_type": "execute_result",
          "data": {
            "text/plain": [
              "Index(['PassengerId', 'Survived', 'Pclass', 'Name', 'Sex', 'Age', 'SibSp',\n",
              "       'Parch', 'Ticket', 'Fare', 'Cabin', 'Embarked'],\n",
              "      dtype='object')"
            ]
          },
          "metadata": {},
          "execution_count": 9
        }
      ]
    },
    {
      "cell_type": "code",
      "source": [
        "print(\"Passengers (Rows): \", len(X_test.index))\n",
        "print(\"Features (Columns): \", len(X_test.columns))"
      ],
      "metadata": {
        "colab": {
          "base_uri": "https://localhost:8080/"
        },
        "id": "trWPJg08-xrY",
        "outputId": "577128b2-43d3-496b-c025-1ec23f0984fc"
      },
      "execution_count": 10,
      "outputs": [
        {
          "output_type": "stream",
          "name": "stdout",
          "text": [
            "Passengers (Rows):  418\n",
            "Features (Columns):  11\n"
          ]
        }
      ]
    },
    {
      "cell_type": "code",
      "source": [
        "X_test.columns"
      ],
      "metadata": {
        "colab": {
          "base_uri": "https://localhost:8080/"
        },
        "id": "6zwHgMPgB4Ug",
        "outputId": "316db5cd-c4bd-45ea-dfcc-19cca4138c46"
      },
      "execution_count": 11,
      "outputs": [
        {
          "output_type": "execute_result",
          "data": {
            "text/plain": [
              "Index(['PassengerId', 'Pclass', 'Name', 'Sex', 'Age', 'SibSp', 'Parch',\n",
              "       'Ticket', 'Fare', 'Cabin', 'Embarked'],\n",
              "      dtype='object')"
            ]
          },
          "metadata": {},
          "execution_count": 11
        }
      ]
    },
    {
      "cell_type": "code",
      "source": [
        "X_train.columns[~X_train.columns.isin(X_test.columns)]"
      ],
      "metadata": {
        "colab": {
          "base_uri": "https://localhost:8080/"
        },
        "id": "UQ867lJpx05-",
        "outputId": "7cc543af-8afb-4a2b-bb14-d61dbcbaa0b2"
      },
      "execution_count": 12,
      "outputs": [
        {
          "output_type": "execute_result",
          "data": {
            "text/plain": [
              "Index(['Survived'], dtype='object')"
            ]
          },
          "metadata": {},
          "execution_count": 12
        }
      ]
    },
    {
      "cell_type": "code",
      "source": [
        "# Seleciona caracteristicas que nao serao analisadas\n",
        "indesejadas = ['Cabin', 'Name', 'Ticket']"
      ],
      "metadata": {
        "id": "K3kP6HqhCGii"
      },
      "execution_count": 63,
      "outputs": []
    },
    {
      "cell_type": "code",
      "source": [
        "class AtributosDesejados(BaseEstimator, TransformerMixin):\n",
        "  def fit(self, X, y=None):\n",
        "    self.colunasIndesejadas = indesejadas\n",
        "    return self\n",
        "  def transform(self, X, y=None):\n",
        "    return X.drop(indesejadas, axis=1)"
      ],
      "metadata": {
        "id": "eHN6uKc-yAo3"
      },
      "execution_count": 64,
      "outputs": []
    },
    {
      "cell_type": "code",
      "source": [
        "# filtra somente as caracteristicas que sao number\n",
        "class AtributosNumericos(BaseEstimator, TransformerMixin):\n",
        "  def fit(self, X, y=None):\n",
        "    self.colunasNumericas = X.select_dtypes(include='number').columns\n",
        "    return self\n",
        "  def transform(self, X, y=None):\n",
        "    return X[self.colunasNumericas]\n",
        "\n",
        "# tratamento das caracteristicas numericas\n",
        "pipenum = Pipeline([\n",
        "    ('atributos_numericos', AtributosNumericos()),\n",
        "    ('imputer', SimpleImputer(strategy='median')),\n",
        "    ('scaler', StandardScaler())\n",
        "])\n"
      ],
      "metadata": {
        "id": "q8T8CCxMzcGP"
      },
      "execution_count": 65,
      "outputs": []
    },
    {
      "cell_type": "code",
      "source": [
        "# filtra somente as caracteristicas que sao object\n",
        "class AtributosCategoricos(BaseEstimator, TransformerMixin):\n",
        "  def fit(self, X, y=None):\n",
        "    self.colunasCategoricas = X.select_dtypes(include='object').columns\n",
        "    return self\n",
        "  def transform(self, X, y=None):\n",
        "    return X[self.colunasCategoricas]\n",
        "\n",
        "# tratamento das caracteristicas numericas\n",
        "pipecat = Pipeline([\n",
        "    ('atributos_categoricos', AtributosCategoricos()),\n",
        "    ('imputer', SimpleImputer(strategy='most_frequent')),\n",
        "    ('encoder', OneHotEncoder())\n",
        "])\n"
      ],
      "metadata": {
        "id": "MOGw8vCl1llo"
      },
      "execution_count": 66,
      "outputs": []
    },
    {
      "cell_type": "code",
      "source": [
        "unecaracteristicas = FeatureUnion([\n",
        "    ('pipenum', pipenum),\n",
        "    ('pipecat', pipecat)\n",
        "])\n"
      ],
      "metadata": {
        "id": "zNqpbyfS22ZJ"
      },
      "execution_count": 67,
      "outputs": []
    },
    {
      "cell_type": "code",
      "source": [
        "preproc = Pipeline([\n",
        "    ('atributos_desejados', AtributosDesejados()),\n",
        "    ('unecaracteristicas', unecaracteristicas)\n",
        "])\n"
      ],
      "metadata": {
        "id": "EtLTto0v3mEG"
      },
      "execution_count": 68,
      "outputs": []
    },
    {
      "cell_type": "code",
      "source": [
        "pipetotal = Pipeline([\n",
        "    ('preproc', preproc),\n",
        "    ('arvore', DecisionTreeClassifier(max_depth=25))\n",
        "])\n"
      ],
      "metadata": {
        "id": "01tDynSP4ZsB"
      },
      "execution_count": 69,
      "outputs": []
    },
    {
      "cell_type": "code",
      "source": [
        "pipetotal.fit(X, y)\n",
        "ypred = pipetotal.predict(X_test)\n",
        "# accuracy_score(y, ypred)"
      ],
      "metadata": {
        "id": "-xIqKR2N5d2g"
      },
      "execution_count": 70,
      "outputs": []
    },
    {
      "cell_type": "code",
      "source": [
        "output = pd.DataFrame({'PassengerId': X_test['PassengerId'], 'Survived': ypred})\n",
        "output.to_csv('/content/drive/MyDrive/Datasets/titanic/submission.csv', index=False)\n"
      ],
      "metadata": {
        "id": "OuK1icDB87bA"
      },
      "execution_count": 33,
      "outputs": []
    },
    {
      "cell_type": "code",
      "source": [
        "import numpy as np\n",
        "from sklearn.model_selection import cross_validate\n",
        "\n",
        "scores = cross_validate(pipetotal, X, y)\n",
        "scores['test_score'], np.mean(scores['test_score'])"
      ],
      "metadata": {
        "colab": {
          "base_uri": "https://localhost:8080/"
        },
        "id": "0tIWousZ4vdr",
        "outputId": "e5e0a009-5e9f-4ecb-b895-74a22a507353"
      },
      "execution_count": 71,
      "outputs": [
        {
          "output_type": "execute_result",
          "data": {
            "text/plain": [
              "(array([0.58659218, 0.78651685, 0.80337079, 0.73595506, 0.8258427 ]),\n",
              " 0.7476555144058754)"
            ]
          },
          "metadata": {},
          "execution_count": 71
        }
      ]
    },
    {
      "cell_type": "code",
      "source": [
        "pipetotal.fit(X, y)\n",
        "ypred = pipetotal.predict(X_test)"
      ],
      "metadata": {
        "id": "V2kbKe-i55ru"
      },
      "execution_count": 72,
      "outputs": []
    },
    {
      "cell_type": "code",
      "source": [
        "from sklearn.model_selection import GridSearchCV\n",
        "\n",
        "parametros = {\n",
        "    'arvore__max_depth': [None] + list(range(1,25,2)),\n",
        "    'preproc__unecaracteristicas__pipenum__imputer__strategy': ['mean', 'median', 'most_frequent']\n",
        "}\n",
        "\n",
        "modelo = GridSearchCV(pipetotal, param_grid=parametros)\n",
        "\n",
        "scores = cross_validate(modelo, X, y)\n",
        "scores, np.mean(scores['test_score'])\n"
      ],
      "metadata": {
        "colab": {
          "base_uri": "https://localhost:8080/"
        },
        "id": "tSNs3Qnd6qn4",
        "outputId": "16bd820f-d6a6-4a7a-f27a-8667d1dd66cf"
      },
      "execution_count": 38,
      "outputs": [
        {
          "output_type": "execute_result",
          "data": {
            "text/plain": [
              "({'fit_time': array([5.33653474, 6.7048018 , 5.41512823, 5.47987103, 5.59859538]),\n",
              "  'score_time': array([0.00642395, 0.00714469, 0.00716519, 0.00720906, 0.0071187 ]),\n",
              "  'test_score': array([0.68715084, 0.81460674, 0.81460674, 0.78089888, 0.79775281])},\n",
              " 0.7790032013056305)"
            ]
          },
          "metadata": {},
          "execution_count": 38
        }
      ]
    },
    {
      "cell_type": "code",
      "source": [
        "modelo.fit(X, y)\n",
        "ypred = pipetotal.predict(X_test)"
      ],
      "metadata": {
        "id": "Ts5iV2cTlD_k"
      },
      "execution_count": 39,
      "outputs": []
    },
    {
      "cell_type": "code",
      "source": [
        "output = pd.DataFrame({'PassengerId': X_test['PassengerId'], 'Survived': ypred})\n",
        "output.to_csv('/content/drive/MyDrive/Datasets/titanic/submission2.csv', index=False)"
      ],
      "metadata": {
        "id": "cTaVO9ralMpk"
      },
      "execution_count": 40,
      "outputs": []
    }
  ]
}