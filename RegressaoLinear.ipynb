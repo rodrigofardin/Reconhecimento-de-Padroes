{
  "nbformat": 4,
  "nbformat_minor": 0,
  "metadata": {
    "colab": {
      "provenance": [],
      "collapsed_sections": [],
      "authorship_tag": "ABX9TyMuFFkuePCiw5yGRrFkp1ZL",
      "include_colab_link": true
    },
    "kernelspec": {
      "name": "python3",
      "display_name": "Python 3"
    },
    "language_info": {
      "name": "python"
    }
  },
  "cells": [
    {
      "cell_type": "markdown",
      "metadata": {
        "id": "view-in-github",
        "colab_type": "text"
      },
      "source": [
        "<a href=\"https://colab.research.google.com/github/rodrigofardin/Reconhecimento-de-Padroes/blob/main/RegressaoLinear.ipynb\" target=\"_parent\"><img src=\"https://colab.research.google.com/assets/colab-badge.svg\" alt=\"Open In Colab\"/></a>"
      ]
    },
    {
      "cell_type": "markdown",
      "source": [
        "Carregando uma base de dados de regressão que NÃO esteja nos toy datasets do scikit-learn;"
      ],
      "metadata": {
        "id": "rqxTKzzctp5N"
      }
    },
    {
      "cell_type": "markdown",
      "source": [
        "Para este exemplo foi gerado um dataset artificial utilizando o módulo make_regression do Sklearn"
      ],
      "metadata": {
        "id": "XgxbZewwmeX5"
      }
    },
    {
      "cell_type": "code",
      "source": [
        "import matplotlib.pyplot as plt\n",
        "from sklearn.datasets import make_regression\n",
        "X, y, coef = make_regression(n_samples=400, n_features=1, noise=50, random_state=7, coef=True)\n",
        "plt.scatter(X, y)\n",
        "plt.show()\n",
        "print(coef)"
      ],
      "metadata": {
        "colab": {
          "base_uri": "https://localhost:8080/",
          "height": 282
        },
        "id": "xMitcWfo8GfL",
        "outputId": "8bb9c9d9-aea7-4800-9ea4-ac28f7058a50"
      },
      "execution_count": 114,
      "outputs": [
        {
          "output_type": "display_data",
          "data": {
            "text/plain": [
              "<Figure size 432x288 with 1 Axes>"
            ],
            "image/png": "[encoded data removed]"
          },
          "metadata": {
            "needs_background": "light"
          }
        },
        {
          "output_type": "stream",
          "name": "stdout",
          "text": [
            "92.65387090440508\n"
          ]
        }
      ]
    },
    {
      "cell_type": "markdown",
      "source": [
        "Criando as matrizes de dados X e y"
      ],
      "metadata": {
        "id": "7K4JZmTOPCpU"
      }
    },
    {
      "cell_type": "code",
      "source": [
        "print(X.shape, y.shape)\n"
      ],
      "metadata": {
        "colab": {
          "base_uri": "https://localhost:8080/"
        },
        "id": "tLT_aFJrPAI8",
        "outputId": "8d412b3a-f66e-47d5-b775-bbcc7b564d0f"
      },
      "execution_count": 115,
      "outputs": [
        {
          "output_type": "stream",
          "name": "stdout",
          "text": [
            "(400, 1) (400,)\n"
          ]
        }
      ]
    },
    {
      "cell_type": "markdown",
      "source": [
        "\n",
        "**Modelo de Regressão Linear**\n",
        "\n",
        "Definindo o modelo de regressão"
      ],
      "metadata": {
        "id": "q-vrdEnIQw-d"
      }
    },
    {
      "cell_type": "code",
      "source": [
        "from sklearn import linear_model\n",
        "modelo = linear_model.LinearRegression()"
      ],
      "metadata": {
        "id": "EngPWumevskk"
      },
      "execution_count": 116,
      "outputs": []
    },
    {
      "cell_type": "markdown",
      "source": [
        "Treinando modelo"
      ],
      "metadata": {
        "id": "HNvYNLk7Rg9j"
      }
    },
    {
      "cell_type": "code",
      "source": [
        "modelo.fit(X, y)\n",
        "ypred = modelo.predict(X)\n",
        "ypred.shape"
      ],
      "metadata": {
        "id": "Ts6elYM2Rgkc",
        "colab": {
          "base_uri": "https://localhost:8080/"
        },
        "outputId": "04c33768-210d-4b31-a0b8-ab155264e15d"
      },
      "execution_count": 125,
      "outputs": [
        {
          "output_type": "execute_result",
          "data": {
            "text/plain": [
              "(400,)"
            ]
          },
          "metadata": {},
          "execution_count": 125
        }
      ]
    },
    {
      "cell_type": "markdown",
      "source": [
        "Visualização da reta de regressão linear que o modelo gerou, com os mesmos dados que criaram o modelo."
      ],
      "metadata": {
        "id": "-1140FiqpIyw"
      }
    },
    {
      "cell_type": "code",
      "source": [
        "plt.scatter(X, y)\n",
        "plt.scatter(X, ypred, alpha=0.5)"
      ],
      "metadata": {
        "colab": {
          "base_uri": "https://localhost:8080/",
          "height": 282
        },
        "id": "0ri7EIwKvsRM",
        "outputId": "b357577c-63bc-443a-feac-2a7be1bd5080"
      },
      "execution_count": 118,
      "outputs": [
        {
          "output_type": "execute_result",
          "data": {
            "text/plain": [
              "<matplotlib.collections.PathCollection at 0x7effaef80290>"
            ]
          },
          "metadata": {},
          "execution_count": 118
        },
        {
          "output_type": "display_data",
          "data": {
            "text/plain": [
              "<Figure size 432x288 with 1 Axes>"
            ],
            "image/png": "[encoded data removed]"
          },
          "metadata": {
            "needs_background": "light"
          }
        }
      ]
    },
    {
      "cell_type": "code",
      "source": [
        "plt.scatter(X, y)\n",
        "plt.plot(X, ypred, 'r')"
      ],
      "metadata": {
        "colab": {
          "base_uri": "https://localhost:8080/",
          "height": 282
        },
        "id": "PD6ZX_1UNgYb",
        "outputId": "c246edf3-b199-43aa-9e90-e081f1f037a9"
      },
      "execution_count": 119,
      "outputs": [
        {
          "output_type": "execute_result",
          "data": {
            "text/plain": [
              "[<matplotlib.lines.Line2D at 0x7effaeeedc50>]"
            ]
          },
          "metadata": {},
          "execution_count": 119
        },
        {
          "output_type": "display_data",
          "data": {
            "text/plain": [
              "<Figure size 432x288 with 1 Axes>"
            ],
            "image/png": "[encoded data removed]"
          },
          "metadata": {
            "needs_background": "light"
          }
        }
      ]
    },
    {
      "cell_type": "markdown",
      "source": [
        "Calculando o MSE (Erro Quadrático Médio)"
      ],
      "metadata": {
        "id": "S4ZUsAUAW_5a"
      }
    },
    {
      "cell_type": "code",
      "source": [
        "from sklearn.metrics import mean_squared_error\n",
        "mse = mean_squared_error(y, ypred)\n",
        "print(mse)"
      ],
      "metadata": {
        "colab": {
          "base_uri": "https://localhost:8080/"
        },
        "id": "NfGuhFegZJ0M",
        "outputId": "0822302c-6f6b-4528-c021-fa92adc0d4d3"
      },
      "execution_count": 120,
      "outputs": [
        {
          "output_type": "stream",
          "name": "stdout",
          "text": [
            "2266.1157262491392\n"
          ]
        }
      ]
    },
    {
      "cell_type": "markdown",
      "source": [
        "Calculando o MAE (Erro Absoluto Médio)\n"
      ],
      "metadata": {
        "id": "uKiMWvvtSRKp"
      }
    },
    {
      "cell_type": "code",
      "source": [
        "from sklearn.metrics import mean_absolute_error\n",
        "mae = mean_absolute_error(y, ypred)\n",
        "print(mae)"
      ],
      "metadata": {
        "colab": {
          "base_uri": "https://localhost:8080/"
        },
        "id": "RVS2C8dVNs4R",
        "outputId": "86d81c0a-409d-4240-91ed-a8ea9dbdca0a"
      },
      "execution_count": 121,
      "outputs": [
        {
          "output_type": "stream",
          "name": "stdout",
          "text": [
            "38.44028134120137\n"
          ]
        }
      ]
    },
    {
      "cell_type": "markdown",
      "source": [
        "Calculando o RMSE (Raiz Quadrada do Erro Médio)"
      ],
      "metadata": {
        "id": "pG8y_hnTjxLQ"
      }
    },
    {
      "cell_type": "code",
      "source": [
        "rmse = mean_squared_error(y, ypred, squared=False)\n",
        "print(rmse)"
      ],
      "metadata": {
        "colab": {
          "base_uri": "https://localhost:8080/"
        },
        "id": "QUK59D13OoYC",
        "outputId": "311e6e9a-9760-4701-fefa-30c4a7002705"
      },
      "execution_count": 122,
      "outputs": [
        {
          "output_type": "stream",
          "name": "stdout",
          "text": [
            "47.603736473612436\n"
          ]
        }
      ]
    },
    {
      "cell_type": "markdown",
      "source": [
        "Utilizando os atributos *coef_* e *intercept_* do modelo, sendo eles respectivamente o coeficiente angular e linear de nossa reta"
      ],
      "metadata": {
        "id": "Jc03Jcc-lJeT"
      }
    },
    {
      "cell_type": "code",
      "source": [
        "print(modelo.intercept_,'\\n', modelo.coef_)"
      ],
      "metadata": {
        "colab": {
          "base_uri": "https://localhost:8080/"
        },
        "id": "hEZpNnygRxkD",
        "outputId": "7869fb53-57e1-48b9-aa43-823c9d0007cf"
      },
      "execution_count": 123,
      "outputs": [
        {
          "output_type": "stream",
          "name": "stdout",
          "text": [
            "-2.5718702410144587 \n",
            " [93.62541015]\n"
          ]
        }
      ]
    },
    {
      "cell_type": "markdown",
      "source": [
        "Plotando um gráfico (2D) do MSE em função do atributo intercept_ da classe LinearRegression. Mantendo os valores do atributo coef_ fixos e variando o valor de intercept_ entre intercept_ - delta e intercept_ + delta."
      ],
      "metadata": {
        "id": "V8rvtKINlPtK"
      }
    },
    {
      "cell_type": "code",
      "source": [
        "import numpy as np\n",
        "\n",
        "def plot(delta):\n",
        "  erros = []\n",
        "  intercept = modelo.intercept_\n",
        "  ws = np.linspace(intercept-delta, intercept+delta)\n",
        "  for w in ws:\n",
        "    modelo.intercept_= w\n",
        "    ypred = modelo.predict(X)\n",
        "    erro = mean_squared_error(y, ypred)\n",
        "    erros.append(erro)\n",
        "  modelo.intercept_ = intercept\n",
        "  plt.plot(ws, erros)\n",
        "  plt.show()\n",
        "\n",
        "plot(1)"
      ],
      "metadata": {
        "colab": {
          "base_uri": "https://localhost:8080/",
          "height": 265
        },
        "id": "2Jvs4KFxVEsx",
        "outputId": "ee0b6871-1f53-49c3-d488-359f228003e6"
      },
      "execution_count": 124,
      "outputs": [
        {
          "output_type": "display_data",
          "data": {
            "text/plain": [
              "<Figure size 432x288 with 1 Axes>"
            ],
            "image/png": "[encoded data removed]"
          },
          "metadata": {
            "needs_background": "light"
          }
        }
      ]
    }
  ]
}