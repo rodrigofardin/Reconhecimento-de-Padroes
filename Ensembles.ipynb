{
  "nbformat": 4,
  "nbformat_minor": 0,
  "metadata": {
    "colab": {
      "provenance": [],
      "authorship_tag": "ABX9TyOIR1QfSgBnAH21xUD6QKdd",
      "include_colab_link": true
    },
    "kernelspec": {
      "name": "python3",
      "display_name": "Python 3"
    },
    "language_info": {
      "name": "python"
    }
  },
  "cells": [
    {
      "cell_type": "markdown",
      "metadata": {
        "id": "view-in-github",
        "colab_type": "text"
      },
      "source": [
        "<a href=\"https://colab.research.google.com/github/rodrigofardin/Reconhecimento-de-Padroes/blob/main/Ensembles.ipynb\" target=\"_parent\"><img src=\"https://colab.research.google.com/assets/colab-badge.svg\" alt=\"Open In Colab\"/></a>"
      ]
    },
    {
      "cell_type": "code",
      "execution_count": 5,
      "metadata": {
        "id": "xmd77RLkre-D"
      },
      "outputs": [],
      "source": [
        "import numpy as np\n",
        "import random\n",
        "import warnings\n",
        "from sklearn.datasets import fetch_openml\n",
        "from sklearn.model_selection import train_test_split\n",
        "from sklearn.neighbors import KNeighborsClassifier\n",
        "from sklearn.naive_bayes import GaussianNB\n",
        "from sklearn.linear_model import Perceptron\n",
        "from scipy import stats\n",
        "from sklearn.ensemble import VotingClassifier\n",
        "from sklearn.tree import DecisionTreeClassifier\n",
        "from sklearn.ensemble import BaggingClassifier\n",
        "from sklearn.ensemble import RandomForestClassifier\n",
        "from sklearn.ensemble import ExtraTreesClassifier\n",
        "from sklearn.base import BaseEstimator, ClassifierMixin\n",
        "from collections import Counter\n",
        "from sklearn.ensemble import AdaBoostClassifier\n",
        "from sklearn.ensemble import StackingClassifier"
      ]
    },
    {
      "cell_type": "code",
      "source": [
        "request = fetch_openml(data_id=1504, as_frame=True)"
      ],
      "metadata": {
        "id": "kGd-xTj4QAet"
      },
      "execution_count": 17,
      "outputs": []
    },
    {
      "cell_type": "code",
      "source": [
        "X = np.array(request.data)\n",
        "y = request.target.map({\"1\":1,\"2\":2})\n",
        "X.shape, y.shape"
      ],
      "metadata": {
        "colab": {
          "base_uri": "https://localhost:8080/"
        },
        "id": "VZMcSoFcroVe",
        "outputId": "cde44325-30bf-45e4-e4ca-730ce5407b02"
      },
      "execution_count": 22,
      "outputs": [
        {
          "output_type": "execute_result",
          "data": {
            "text/plain": [
              "((1941, 33), (1941,))"
            ]
          },
          "metadata": {},
          "execution_count": 22
        }
      ]
    },
    {
      "cell_type": "code",
      "source": [
        "X_train, X_test, y_train, y_test = train_test_split(X, y, random_state=42)\n",
        "X_train.shape, X_test.shape, y_train.shape, y_test.shape"
      ],
      "metadata": {
        "colab": {
          "base_uri": "https://localhost:8080/"
        },
        "id": "kBvMGY2proTG",
        "outputId": "14597516-c928-4574-aa8a-922356a4fab1"
      },
      "execution_count": 24,
      "outputs": [
        {
          "output_type": "execute_result",
          "data": {
            "text/plain": [
              "((1455, 33), (486, 33), (1455,), (486,))"
            ]
          },
          "metadata": {},
          "execution_count": 24
        }
      ]
    },
    {
      "cell_type": "code",
      "source": [
        "modelo = VotingClassifier([\n",
        "    ('knn', KNeighborsClassifier()),\n",
        "    ('gnb', GaussianNB()),\n",
        "    ('per', Perceptron())\n",
        "])\n",
        "modelo.fit(X_train, y_train)\n",
        "vote_pred = modelo.predict(X_test)\n",
        "vote_hits = vote_pred == y_test\n",
        "vote_hits, sum(vote_hits)/len(vote_hits)"
      ],
      "metadata": {
        "colab": {
          "base_uri": "https://localhost:8080/"
        },
        "id": "1euZeYlwuSZ5",
        "outputId": "5a718067-0736-41b2-b654-616c4aee22c2"
      },
      "execution_count": 25,
      "outputs": [
        {
          "output_type": "execute_result",
          "data": {
            "text/plain": [
              "(1605    False\n",
              " 1502     True\n",
              " 70       True\n",
              " 976      True\n",
              " 1052     True\n",
              "         ...  \n",
              " 987      True\n",
              " 745      True\n",
              " 567      True\n",
              " 198      True\n",
              " 15       True\n",
              " Name: Class, Length: 486, dtype: bool, 0.6440329218106996)"
            ]
          },
          "metadata": {},
          "execution_count": 25
        }
      ]
    },
    {
      "cell_type": "code",
      "source": [
        "modelo = BaggingClassifier(DecisionTreeClassifier(splitter='random'), \n",
        "                           n_estimators=100, \n",
        "                           max_features=0.15,\n",
        "                           random_state=42)\n",
        "modelo.fit(X_train, y_train)\n",
        "bag_pred = modelo.predict(X_test)\n",
        "bag_hits = bag_pred == y_test\n",
        "bag_hits, sum(bag_hits)/len(bag_hits)"
      ],
      "metadata": {
        "id": "vuxHMkU1uSOl",
        "colab": {
          "base_uri": "https://localhost:8080/"
        },
        "outputId": "6e877bc6-5672-4ea4-db39-498f6cac1e54"
      },
      "execution_count": 26,
      "outputs": [
        {
          "output_type": "execute_result",
          "data": {
            "text/plain": [
              "(1605    False\n",
              " 1502     True\n",
              " 70       True\n",
              " 976      True\n",
              " 1052     True\n",
              "         ...  \n",
              " 987      True\n",
              " 745      True\n",
              " 567      True\n",
              " 198      True\n",
              " 15       True\n",
              " Name: Class, Length: 486, dtype: bool, 0.8148148148148148)"
            ]
          },
          "metadata": {},
          "execution_count": 26
        }
      ]
    },
    {
      "cell_type": "code",
      "source": [
        "modelo = RandomForestClassifier(random_state=42)\n",
        "modelo.fit(X_train, y_train)\n",
        "rfc_pred = modelo.predict(X_test)\n",
        "rfc_hits = rfc_pred == y_test\n",
        "rfc_hits, sum(rfc_hits)/len(rfc_hits)"
      ],
      "metadata": {
        "colab": {
          "base_uri": "https://localhost:8080/"
        },
        "id": "h2XiQuk4uSL7",
        "outputId": "409c1618-dc7a-4afa-da28-94ae3978131e"
      },
      "execution_count": 27,
      "outputs": [
        {
          "output_type": "execute_result",
          "data": {
            "text/plain": [
              "(1605    True\n",
              " 1502    True\n",
              " 70      True\n",
              " 976     True\n",
              " 1052    True\n",
              "         ... \n",
              " 987     True\n",
              " 745     True\n",
              " 567     True\n",
              " 198     True\n",
              " 15      True\n",
              " Name: Class, Length: 486, dtype: bool, 0.9917695473251029)"
            ]
          },
          "metadata": {},
          "execution_count": 27
        }
      ]
    },
    {
      "cell_type": "code",
      "source": [
        "modelo = ExtraTreesClassifier(random_state=42)\n",
        "modelo.fit(X_train, y_train)\n",
        "etc_pred = modelo.predict(X_test)\n",
        "etc_hits = etc_pred == y_test\n",
        "etc_hits, sum(etc_hits)/len(etc_hits)"
      ],
      "metadata": {
        "colab": {
          "base_uri": "https://localhost:8080/"
        },
        "id": "oEpN55d2uSJh",
        "outputId": "eb1bc87d-ddd7-4ce5-ee3d-51420f5cac0c"
      },
      "execution_count": 28,
      "outputs": [
        {
          "output_type": "execute_result",
          "data": {
            "text/plain": [
              "(1605    True\n",
              " 1502    True\n",
              " 70      True\n",
              " 976     True\n",
              " 1052    True\n",
              "         ... \n",
              " 987     True\n",
              " 745     True\n",
              " 567     True\n",
              " 198     True\n",
              " 15      True\n",
              " Name: Class, Length: 486, dtype: bool, 1.0)"
            ]
          },
          "metadata": {},
          "execution_count": 28
        }
      ]
    },
    {
      "cell_type": "code",
      "source": [
        "random.seed(42)\n",
        "\n",
        "def maisFrequente(y):\n",
        "  return Counter(y.flat).most_common(1)[0][0]\n",
        "\n",
        "def caracteristicaValor(X):\n",
        "  feat = random.randint(0, X.shape[1]-1)\n",
        "  xmin = np.min(X[:,feat])\n",
        "  xmax = np.max(X[:,feat])\n",
        "  valor = random.random()*(xmax-xmin)+xmin\n",
        "  return feat, valor\n",
        "\n",
        "class Arvore(BaseEstimator, ClassifierMixin):\n",
        "  def fit(self, X, y):\n",
        "    self.caracteristica, self.valor = caracteristicaValor(X)\n",
        "    maiores = X[:,self.caracteristica] > self.valor\n",
        "    if sum(maiores)>0 and sum(~maiores)>0:\n",
        "      self.maiores = Arvore()\n",
        "      self.maiores.fit(X[maiores,:], y[maiores])\n",
        "      self.menores = Arvore()\n",
        "      self.menores.fit(X[~maiores,:], y[~maiores])\n",
        "    else:\n",
        "      self.resposta = maisFrequente(y)\n",
        "\n",
        "  def predict(self, X):\n",
        "    y = np.empty((X.shape[0]), dtype=np.int64)\n",
        "    if hasattr(self, \"resposta\"):\n",
        "      y[:] = self.resposta\n",
        "    else:\n",
        "      maiores = X[:,self.caracteristica] > self.valor\n",
        "      y[maiores] = self.maiores.predict(X[maiores,:])\n",
        "      y[~maiores] = self.menores.predict(X[~maiores,:])\n",
        "    return y\n",
        "\n",
        "modelo = BaggingClassifier(Arvore(), \n",
        "                           n_estimators=200,\n",
        "                           max_features=0.1,\n",
        "                           random_state=42)\n",
        "modelo.fit(X_train, y_train)\n",
        "bag_pred = modelo.predict(X_test)\n",
        "bag_hits = bag_pred == y_test\n",
        "bag_hits, sum(bag_hits)/len(bag_hits)"
      ],
      "metadata": {
        "colab": {
          "base_uri": "https://localhost:8080/"
        },
        "id": "8daptO8tuSHJ",
        "outputId": "83b1cab5-4dbc-4006-dda9-65ee3feb5fe4"
      },
      "execution_count": 29,
      "outputs": [
        {
          "output_type": "execute_result",
          "data": {
            "text/plain": [
              "(1605    False\n",
              " 1502    False\n",
              " 70       True\n",
              " 976      True\n",
              " 1052     True\n",
              "         ...  \n",
              " 987      True\n",
              " 745      True\n",
              " 567      True\n",
              " 198      True\n",
              " 15       True\n",
              " Name: Class, Length: 486, dtype: bool, 0.6419753086419753)"
            ]
          },
          "metadata": {},
          "execution_count": 29
        }
      ]
    },
    {
      "cell_type": "code",
      "source": [
        "modelo = AdaBoostClassifier(DecisionTreeClassifier(max_depth=25, splitter='random'), \n",
        "                            learning_rate=0.15, random_state=42)\n",
        "modelo.fit(X_train, y_train)\n",
        "abc_pred = modelo.predict(X_test)\n",
        "abc_hits = abc_pred == y_test\n",
        "abc_hits, sum(abc_hits)/len(abc_hits)"
      ],
      "metadata": {
        "colab": {
          "base_uri": "https://localhost:8080/"
        },
        "id": "ffoPxvQNuSEi",
        "outputId": "d00fa793-d981-4a22-863d-8da85cf6e198"
      },
      "execution_count": 30,
      "outputs": [
        {
          "output_type": "execute_result",
          "data": {
            "text/plain": [
              "(1605    True\n",
              " 1502    True\n",
              " 70      True\n",
              " 976     True\n",
              " 1052    True\n",
              "         ... \n",
              " 987     True\n",
              " 745     True\n",
              " 567     True\n",
              " 198     True\n",
              " 15      True\n",
              " Name: Class, Length: 486, dtype: bool, 1.0)"
            ]
          },
          "metadata": {},
          "execution_count": 30
        }
      ]
    },
    {
      "cell_type": "code",
      "source": [
        "warnings.filterwarnings('ignore')\n",
        "\n",
        "voting = VotingClassifier([\n",
        "    ('knn', KNeighborsClassifier()),\n",
        "    ('gnb', GaussianNB()),\n",
        "    ('per', Perceptron())\n",
        "])\n",
        "\n",
        "modelo = StackingClassifier([\n",
        "    ('voting', voting),\n",
        "    ('extrat', ExtraTreesClassifier()),\n",
        "    ('ranfor', RandomForestClassifier())\n",
        "], cv=3, passthrough=True)\n",
        "\n",
        "modelo.fit(X_train, y_train)\n",
        "stack_pred = modelo.predict(X_test)\n",
        "stack_hits = stack_pred == y_test\n",
        "stack_hits, sum(stack_hits)/len(stack_hits)"
      ],
      "metadata": {
        "colab": {
          "base_uri": "https://localhost:8080/"
        },
        "id": "Em0AKueXwVbU",
        "outputId": "7058c556-1c3b-40a5-9be7-a3e55d467d55"
      },
      "execution_count": 32,
      "outputs": [
        {
          "output_type": "execute_result",
          "data": {
            "text/plain": [
              "(1605    False\n",
              " 1502    False\n",
              " 70       True\n",
              " 976      True\n",
              " 1052     True\n",
              "         ...  \n",
              " 987      True\n",
              " 745      True\n",
              " 567      True\n",
              " 198      True\n",
              " 15       True\n",
              " Name: Class, Length: 486, dtype: bool, 0.6481481481481481)"
            ]
          },
          "metadata": {},
          "execution_count": 32
        }
      ]
    },
    {
      "cell_type": "code",
      "source": [
        "modelo = StackingClassifier([\n",
        "    ('randomforest42', RandomForestClassifier(random_state=42)),\n",
        "    ('randomforest43', RandomForestClassifier(random_state=43)),\n",
        "    ('randomforest44', RandomForestClassifier(random_state=44))\n",
        "], cv=3, passthrough=True)\n",
        "\n",
        "modelo.fit(X_train, y_train)\n",
        "sc_pr = modelo.predict(X_test)\n",
        "schits = sc_pr == y_test\n",
        "schits, sum(schits)/len(schits)"
      ],
      "metadata": {
        "colab": {
          "base_uri": "https://localhost:8080/"
        },
        "id": "vMEC3xwrfj3N",
        "outputId": "03c1dcc6-e76d-4bcc-931d-57d4e505f5d5"
      },
      "execution_count": 41,
      "outputs": [
        {
          "output_type": "execute_result",
          "data": {
            "text/plain": [
              "(1605    False\n",
              " 1502    False\n",
              " 70       True\n",
              " 976      True\n",
              " 1052     True\n",
              "         ...  \n",
              " 987      True\n",
              " 745      True\n",
              " 567      True\n",
              " 198      True\n",
              " 15       True\n",
              " Name: Class, Length: 486, dtype: bool, 0.6481481481481481)"
            ]
          },
          "metadata": {},
          "execution_count": 41
        }
      ]
    },
    {
      "cell_type": "code",
      "source": [
        "from sklearn.model_selection import cross_validate\n",
        "from sklearn.model_selection import GridSearchCV\n",
        "\n",
        "parametros = {'knn__n_neighbors': [3,5,7, 11,13],\n",
        "              'gnb__var_smoothing': [0.00000001, 0.000000001, 0.00000001], \n",
        "              }\n",
        "\n",
        "modelo = GridSearchCV(voting, parametros, cv=3)\n",
        "\n",
        "modelo.fit(X_train, y_train)\n",
        "stack_pred = modelo.predict(X_test)\n",
        "stack_hits = stack_pred == y_test\n",
        "stack_hits, sum(stack_hits)/len(stack_hits)"
      ],
      "metadata": {
        "colab": {
          "base_uri": "https://localhost:8080/"
        },
        "id": "WJEi1FW-YR9t",
        "outputId": "aa5eea78-8db1-442c-89e4-bd93e27d579f"
      },
      "execution_count": 42,
      "outputs": [
        {
          "output_type": "execute_result",
          "data": {
            "text/plain": [
              "(1605    False\n",
              " 1502     True\n",
              " 70       True\n",
              " 976      True\n",
              " 1052     True\n",
              "         ...  \n",
              " 987      True\n",
              " 745      True\n",
              " 567      True\n",
              " 198      True\n",
              " 15       True\n",
              " Name: Class, Length: 486, dtype: bool, 0.6419753086419753)"
            ]
          },
          "metadata": {},
          "execution_count": 42
        }
      ]
    }
  ]
}